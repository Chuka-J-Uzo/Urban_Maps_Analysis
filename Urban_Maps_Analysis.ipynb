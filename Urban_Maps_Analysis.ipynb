{
  "nbformat": 4,
  "nbformat_minor": 0,
  "metadata": {
    "colab": {
      "provenance": [],
      "authorship_tag": "ABX9TyM3wZlMtf97DW2MuWfEM489"
    },
    "kernelspec": {
      "name": "python3",
      "display_name": "Python 3"
    },
    "language_info": {
      "name": "python"
    }
  },
  "cells": [
    {
      "cell_type": "code",
      "execution_count": null,
      "metadata": {
        "id": "bNIxUiy0yYTb"
      },
      "outputs": [],
      "source": [
        "import geopandas as gpd\n",
        "import matplotlib.pyplot as plt\n",
        "\n",
        "# Read in the CSV file and create a GeoDataFrame\n",
        "df = gpd.read_file(\"population_data.csv\")\n",
        "\n",
        "# Set the coordinate reference system (CRS) to EPSG 4326\n",
        "df = df.to_crs(epsg=4326)\n",
        "\n",
        "# Create a base map\n",
        "ax = df.plot(figsize=(10, 10), alpha=0.5, edgecolor='k')\n",
        "\n",
        "# Add a title\n",
        "plt.title(\"Population Data\")\n",
        "\n",
        "# Show the plot\n",
        "plt.show()\n"
      ]
    }
  ]
}